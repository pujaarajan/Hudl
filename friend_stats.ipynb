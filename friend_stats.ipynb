{
 "cells": [
  {
   "cell_type": "code",
   "execution_count": 1,
   "metadata": {
    "collapsed": true
   },
   "outputs": [],
   "source": [
    "import json"
   ]
  },
  {
   "cell_type": "code",
   "execution_count": null,
   "metadata": {
    "collapsed": true
   },
   "outputs": [],
   "source": [
    "friends = sc.textFile(\"s3://ds-fulla/mongo/20150525/feed/feed/friend/\")\\\n",
    "    .map(json.loads)\n",
    "user_friends = friends\\\n",
    "    .filter(lambda x: x['f']['t']==3)\\\n",
    "    .map(lambda x: (x['u']['r'], [ x['f']['r'] ] ))\\\n",
    "    .reduceByKey(lambda a, b: a+b)\n",
    "user_friends.take(1)"
   ]
  },
  {
   "cell_type": "code",
   "execution_count": null,
   "metadata": {
    "collapsed": true
   },
   "outputs": [],
   "source": [
    "all_friends = sc.textFile(\"s3://ds-fulla/mongo/20150525/feed/feed/user/\")\\\n",
    "    .map(json.loads)\n",
    "all_friends.take(1)"
   ]
  },
  {
   "cell_type": "code",
   "execution_count": null,
   "metadata": {
    "collapsed": true
   },
   "outputs": [],
   "source": [
    "def add_first_last_name(first, last):\n",
    "    try:\n",
    "        return first+\" \"+last\n",
    "    except:\n",
    "        return \"\"\n",
    "\n",
    "athlete_friends = all_friends\\\n",
    "    .filter(lambda x: x['_id']['t']==3)\\\n",
    "    .filter(lambda x: 'n' in x.keys())\\\n",
    "    .map(lambda x: (x['_id']['r'], add_first_last_name(x['n']['f'], x['n']['l']) ))\\\n",
    "    .filter(lambda x: x[1] != \"\")\n",
    "athlete_friends.take(1)"
   ]
  },
  {
   "cell_type": "code",
   "execution_count": null,
   "metadata": {
    "collapsed": true
   },
   "outputs": [],
   "source": [
    "count_friends = user_friends\\\n",
    "    .map(lambda x: (x[0], len(x[1])))\n",
    "count_friends.take(1)"
   ]
  },
  {
   "cell_type": "code",
   "execution_count": null,
   "metadata": {
    "collapsed": true
   },
   "outputs": [],
   "source": [
    "name_friends = athlete_friends.join(count_friends)\n",
    "asdf = name_friends.map(lambda x: (int(x[0]), str(x[1][0]), x[1][1]))\n",
    "asdf.take(1)\n"
   ]
  },
  {
   "cell_type": "code",
   "execution_count": null,
   "metadata": {
    "collapsed": true
   },
   "outputs": [],
   "source": [
    "friend_stats = count_friends.values().stats()\n",
    "print friend_stats"
   ]
  },
  {
   "cell_type": "code",
   "execution_count": null,
   "metadata": {
    "collapsed": true
   },
   "outputs": [],
   "source": [
    "friend_histogram = count_friends\\\n",
    "    .map(lambda x: x[1])\n",
    "friend_histogram.take(1)\n",
    "friend_histogram.histogram(10)"
   ]
  },
  {
   "cell_type": "code",
   "execution_count": null,
   "metadata": {
    "collapsed": true
   },
   "outputs": [],
   "source": []
  },
  {
   "cell_type": "code",
   "execution_count": null,
   "metadata": {
    "collapsed": true
   },
   "outputs": [],
   "source": []
  },
  {
   "cell_type": "code",
   "execution_count": null,
   "metadata": {
    "collapsed": true
   },
   "outputs": [],
   "source": []
  }
 ],
 "metadata": {
  "kernelspec": {
   "display_name": "Python 2",
   "language": "python",
   "name": "python2"
  },
  "language_info": {
   "codemirror_mode": {
    "name": "ipython",
    "version": 2
   },
   "file_extension": ".py",
   "mimetype": "text/x-python",
   "name": "python",
   "nbconvert_exporter": "python",
   "pygments_lexer": "ipython2",
   "version": "2.7.10"
  }
 },
 "nbformat": 4,
 "nbformat_minor": 0
}
