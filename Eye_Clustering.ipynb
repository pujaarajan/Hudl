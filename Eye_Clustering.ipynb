{
 "cells": [
  {
   "cell_type": "code",
   "execution_count": 5,
   "metadata": {
    "collapsed": true
   },
   "outputs": [],
   "source": [
    "import sklearn\n",
    "import numpy as np\n",
    "import matplotlib.pyplot as plt\n",
    "from matplotlib.colors import ListedColormap\n",
    "from sklearn import neighbors, datasets\n",
    "import csv\n",
    "%matplotlib inline  "
   ]
  },
  {
   "cell_type": "code",
   "execution_count": 277,
   "metadata": {
    "collapsed": false
   },
   "outputs": [],
   "source": [
    "#Load and parse data\n",
    "\n",
    "def parse_csv(datafile):\n",
    "    data1 =[]\n",
    "    data2 = []\n",
    "    data4 = []\n",
    "    n = 0\n",
    "    with open(datafile, 'rb') as df:\n",
    "        r = csv.reader(df,delimiter=';')\n",
    "        for l in r:\n",
    "            data1.append(l)\n",
    "            for a in data1:\n",
    "                data2.append(a[:5])\n",
    "        for b in data2:\n",
    "            data3 = []\n",
    "            for c in b:\n",
    "                data3.append(int(c.split(',')[0]))\n",
    "                data3.append(int(c.split(',')[1]))\n",
    "            data4.append(data3)\n",
    "    return data4"
   ]
  },
  {
   "cell_type": "code",
   "execution_count": 278,
   "metadata": {
    "collapsed": false,
    "scrolled": true
   },
   "outputs": [],
   "source": [
    "data = parse_csv('cluster_data.csv')"
   ]
  },
  {
   "cell_type": "code",
   "execution_count": 280,
   "metadata": {
    "collapsed": false,
    "scrolled": true
   },
   "outputs": [
    {
     "name": "stdout",
     "output_type": "stream",
     "text": [
      "(array([[ 3.16227766]]), array([[253]]))\n"
     ]
    }
   ],
   "source": [
    "samples = data\n",
    "from sklearn.neighbors import NearestNeighbors\n",
    "neigh = NearestNeighbors(n_neighbors=1)\n",
    "neigh.fit(samples) \n",
    "\n",
    "print(neigh.kneighbors([126, 159, 282, 146, 133, 165, 287, 165, 99, 222])) \n"
   ]
  },
  {
   "cell_type": "code",
   "execution_count": 297,
   "metadata": {
    "collapsed": false
   },
   "outputs": [],
   "source": [
    "import numpy as np\n",
    "import matplotlib.pyplot as plt\n",
    "from matplotlib.colors import ListedColormap\n",
    "from sklearn import neighbors, datasets\n",
    "\n",
    "data2 = np.array(data)\n",
    "\n",
    "n_neighbors = 1\n",
    "\n",
    "X = data2[:, :8]\n",
    "                      \n",
    "y = data2[:, 8:]\n",
    "\n",
    "h = .02  # step size in the mesh\n",
    "\n",
    "for weights in ['uniform', 'distance']:\n",
    "    # we create an instance of Neighbours Classifier and fit the data.\n",
    "    clf = neighbors.KNeighborsClassifier(n_neighbors, weights=weights)\n",
    "    clf.fit(X, y)\n",
    "\n",
    "    Z = clf.predict([126, 159, 282, 146, 133, 165, 287, 165])\n",
    "\n",
    "\n",
    "\n",
    "    \n"
   ]
  },
  {
   "cell_type": "code",
   "execution_count": 299,
   "metadata": {
    "collapsed": false
   },
   "outputs": [
    {
     "name": "stdout",
     "output_type": "stream",
     "text": [
      "[[100 223]]\n"
     ]
    }
   ],
   "source": [
    "print Z"
   ]
  },
  {
   "cell_type": "code",
   "execution_count": null,
   "metadata": {
    "collapsed": true
   },
   "outputs": [],
   "source": []
  }
 ],
 "metadata": {
  "kernelspec": {
   "display_name": "Python 2",
   "language": "python",
   "name": "python2"
  },
  "language_info": {
   "codemirror_mode": {
    "name": "ipython",
    "version": 2
   },
   "file_extension": ".py",
   "mimetype": "text/x-python",
   "name": "python",
   "nbconvert_exporter": "python",
   "pygments_lexer": "ipython2",
   "version": "2.7.10"
  }
 },
 "nbformat": 4,
 "nbformat_minor": 0
}
