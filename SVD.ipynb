{
 "cells": [
  {
   "cell_type": "code",
   "execution_count": 139,
   "metadata": {
    "collapsed": false
   },
   "outputs": [],
   "source": [
    "import thunder\n",
    "from collections import defaultdict\n",
    "import numpy"
   ]
  },
  {
   "cell_type": "code",
   "execution_count": 299,
   "metadata": {
    "collapsed": false,
    "scrolled": true
   },
   "outputs": [
    {
     "data": {
      "text/plain": [
       "[(1, [1, 0, 1, 0, 1, 0, 1, 0, 1, 0]), (2, [0, 0, 0, 0, 0, 0, 0, 0, 0, 1])]"
      ]
     },
     "execution_count": 299,
     "metadata": {},
     "output_type": "execute_result"
    }
   ],
   "source": [
    "data = sc.textFile(\"test_matrix.txt\")\n",
    "data2 = data.map(lambda l: l.split(','))\n",
    "data3 = data2.map(lambda l: [int(s) for s in l])\n",
    "data4 = data3.map(lambda l: (l[0], l[1:]))\n",
    "data4.take(2)"
   ]
  },
  {
   "cell_type": "code",
   "execution_count": 300,
   "metadata": {
    "collapsed": false,
    "scrolled": true
   },
   "outputs": [
    {
     "data": {
      "text/plain": [
       "[(1, [1, 0, 1, 0, 1, 0, 1, 0, 1, 0]),\n",
       " (2, [0, 0, 0, 0, 0, 0, 0, 0, 0, 1]),\n",
       " (3, [1, 0, 0, 0, 0, 0, 0, 0, 0, 0]),\n",
       " (4, [0, 1, 0, 1, 0, 1, 0, 1, 0, 1]),\n",
       " (5, [1, 0, 1, 0, 1, 0, 0, 0, 0, 0]),\n",
       " (6, [0, 0, 0, 0, 0, 1, 0, 1, 0, 1]),\n",
       " (7, [0, 0, 1, 0, 1, 0, 1, 0, 0, 0]),\n",
       " (8, [0, 0, 0, 1, 0, 1, 0, 1, 0, 0]),\n",
       " (9, [1, 0, 0, 0, 0, 0, 1, 0, 0, 0]),\n",
       " (10, [0, 0, 0, 1, 0, 0, 0, 0, 0, 1])]"
      ]
     },
     "execution_count": 300,
     "metadata": {},
     "output_type": "execute_result"
    }
   ],
   "source": [
    "a = thunder.RowMatrix(data4)\n",
    "a.take(10)"
   ]
  },
  {
   "cell_type": "code",
   "execution_count": 301,
   "metadata": {
    "collapsed": false
   },
   "outputs": [],
   "source": [
    "b = thunder.SVD(3)"
   ]
  },
  {
   "cell_type": "code",
   "execution_count": 302,
   "metadata": {
    "collapsed": false
   },
   "outputs": [],
   "source": [
    "c = b.calc(a)"
   ]
  },
  {
   "cell_type": "code",
   "execution_count": 317,
   "metadata": {
    "collapsed": false
   },
   "outputs": [
    {
     "data": {
      "text/plain": [
       "[(1, array([  6.77487186e-01,   1.59046550e-16,   2.33879773e-16])),\n",
       " (2, array([  3.79711331e-17,  -1.57040477e-01,   6.00771718e-03])),\n",
       " (3, array([  1.57040477e-01,   4.82709538e-17,  -5.77319011e-01])),\n",
       " (4, array([  2.17800843e-16,  -6.77487186e-01,   1.40512602e-16])),\n",
       " (5, array([  4.71121432e-01,   1.09088928e-16,  -9.43689571e-16])),\n",
       " (6, array([  1.13948721e-16,  -4.71121432e-01,  -1.53523028e-16])),\n",
       " (7, array([  4.54061942e-01,   9.99152438e-17,   5.77319011e-01])),\n",
       " (8, array([  1.10323453e-16,  -4.54061942e-01,  -6.00771718e-03])),\n",
       " (9, array([  2.97021465e-01,   8.73682231e-17,  -5.77319011e-01])),\n",
       " (10, array([  7.23169981e-17,  -2.97021465e-01,   6.00771718e-03]))]"
      ]
     },
     "execution_count": 317,
     "metadata": {},
     "output_type": "execute_result"
    }
   ],
   "source": [
    "c.u.collect()"
   ]
  },
  {
   "cell_type": "code",
   "execution_count": 304,
   "metadata": {
    "collapsed": false
   },
   "outputs": [
    {
     "data": {
      "text/plain": [
       "array([[  5.01681323e-01,   1.54206332e-16,  -8.16452375e-01],\n",
       "       [  2.22044605e-16,  -2.12072697e-01,   4.44089210e-16],\n",
       "       [  5.01681323e-01,   3.19189120e-16,   4.08226188e-01],\n",
       "       [  1.09721260e-16,  -4.47183097e-01,  -2.77555756e-17],\n",
       "       [  5.01681323e-01,  -1.24900090e-16,   4.08226188e-01],\n",
       "       [  1.21358957e-16,  -5.01681323e-01,  -4.24809756e-03],\n",
       "       [  4.47183097e-01,   1.24900090e-16,   1.27675648e-15],\n",
       "       [  1.21358957e-16,  -5.01681323e-01,  -4.24809756e-03],\n",
       "       [  2.12072697e-01,   3.46944695e-17,   3.88578059e-16],\n",
       "       [  1.21302537e-16,  -5.01681323e-01,   8.49619512e-03]])"
      ]
     },
     "execution_count": 304,
     "metadata": {},
     "output_type": "execute_result"
    }
   ],
   "source": [
    "c.v.T"
   ]
  },
  {
   "cell_type": "code",
   "execution_count": 305,
   "metadata": {
    "collapsed": false
   },
   "outputs": [
    {
     "data": {
      "text/plain": [
       "array([ 3.19459882,  3.19459882,  1.41421356])"
      ]
     },
     "execution_count": 305,
     "metadata": {},
     "output_type": "execute_result"
    }
   ],
   "source": [
    "c.s"
   ]
  },
  {
   "cell_type": "code",
   "execution_count": 318,
   "metadata": {
    "collapsed": false
   },
   "outputs": [],
   "source": [
    "array = c.v.T*c.u[1]"
   ]
  },
  {
   "cell_type": "code",
   "execution_count": 319,
   "metadata": {
    "collapsed": false,
    "scrolled": true
   },
   "outputs": [],
   "source": [
    "array2 = array*c.s"
   ]
  },
  {
   "cell_type": "code",
   "execution_count": 320,
   "metadata": {
    "collapsed": false
   },
   "outputs": [
    {
     "data": {
      "text/plain": [
       "array([[  1.08578877e+00,   7.83506829e-32,  -2.70046479e-16],\n",
       "       [  4.80571086e-16,  -1.07752000e-16,   1.46885147e-31],\n",
       "       [  1.08578877e+00,   1.62176775e-31,   1.35023239e-16],\n",
       "       [  2.37469697e-16,  -2.27209224e-16,  -9.18032170e-33],\n",
       "       [  1.08578877e+00,  -6.34604770e-32,   1.35023239e-16],\n",
       "       [  2.62657162e-16,  -2.54899224e-16,  -1.40508353e-18],\n",
       "       [  9.67838271e-01,   6.34604770e-32,   4.22294798e-31],\n",
       "       [  2.62657162e-16,  -2.54899224e-16,  -1.40508353e-18],\n",
       "       [  4.58988887e-01,   1.76279103e-32,   1.28524504e-31],\n",
       "       [  2.62535052e-16,  -2.54899224e-16,   2.81016706e-18]])"
      ]
     },
     "execution_count": 320,
     "metadata": {},
     "output_type": "execute_result"
    }
   ],
   "source": [
    "array2"
   ]
  },
  {
   "cell_type": "code",
   "execution_count": null,
   "metadata": {
    "collapsed": true
   },
   "outputs": [],
   "source": []
  }
 ],
 "metadata": {
  "kernelspec": {
   "display_name": "Python 2",
   "language": "python",
   "name": "python2"
  },
  "language_info": {
   "codemirror_mode": {
    "name": "ipython",
    "version": 2
   },
   "file_extension": ".py",
   "mimetype": "text/x-python",
   "name": "python",
   "nbconvert_exporter": "python",
   "pygments_lexer": "ipython2",
   "version": "2.7.10"
  }
 },
 "nbformat": 4,
 "nbformat_minor": 0
}
