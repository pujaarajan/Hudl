{
 "cells": [
  {
   "cell_type": "code",
   "execution_count": 2,
   "metadata": {
    "collapsed": false
   },
   "outputs": [],
   "source": [
    "# highlight_id, {'field_name: value'}\n",
    "\n",
    "rdd_1 = sc.parallelize([(1, {'hs/college': 0, 'music': 0}),\n",
    "                       (2, {'hs/college': 1, 'music': 1}),\n",
    "                       (3, {'hs/college': 0, 'music': 1}),\n",
    "                       (4, {'hs/college': 1, 'music': 0})])\n",
    "\n",
    "rdd_2 = sc.parallelize([(1, {'premium': 0, 'football': 1}),\n",
    "                       (2, {'premium': 1, 'football': 1}),\n",
    "                       (3, {'premium': 1, 'football': 1}),\n",
    "                       (4, {'premium': 1, 'football': 0})])\n"
   ]
  },
  {
   "cell_type": "code",
   "execution_count": 3,
   "metadata": {
    "collapsed": true
   },
   "outputs": [],
   "source": [
    "rdd_full = rdd_1.join(rdd_2)"
   ]
  },
  {
   "cell_type": "code",
   "execution_count": 5,
   "metadata": {
    "collapsed": false
   },
   "outputs": [],
   "source": [
    "def add_dicts(a, b):\n",
    "    c = a.copy()\n",
    "    c.update(b)\n",
    "    return c"
   ]
  },
  {
   "cell_type": "code",
   "execution_count": 6,
   "metadata": {
    "collapsed": true
   },
   "outputs": [],
   "source": [
    "rdd_full = rdd_full.map(lambda x: (x[0], add_dicts(x[1][0],x[1][1])))"
   ]
  },
  {
   "cell_type": "code",
   "execution_count": 7,
   "metadata": {
    "collapsed": false
   },
   "outputs": [
    {
     "data": {
      "text/plain": [
       "[(1, {'football': 1, 'hs/college': 0, 'music': 0, 'premium': 0})]"
      ]
     },
     "execution_count": 7,
     "metadata": {},
     "output_type": "execute_result"
    }
   ],
   "source": [
    "rdd_full.take(1)"
   ]
  },
  {
   "cell_type": "code",
   "execution_count": 8,
   "metadata": {
    "collapsed": true
   },
   "outputs": [],
   "source": [
    "ids = rdd_full.map(lambda x: x[0]).distinct().collect()"
   ]
  },
  {
   "cell_type": "code",
   "execution_count": 9,
   "metadata": {
    "collapsed": true
   },
   "outputs": [],
   "source": [
    "id_matrix = sc.parallelize(ids)"
   ]
  },
  {
   "cell_type": "code",
   "execution_count": 10,
   "metadata": {
    "collapsed": false
   },
   "outputs": [
    {
     "data": {
      "text/plain": [
       "[1]"
      ]
     },
     "execution_count": 10,
     "metadata": {},
     "output_type": "execute_result"
    }
   ],
   "source": [
    "id_matrix.take(1)"
   ]
  },
  {
   "cell_type": "code",
   "execution_count": 11,
   "metadata": {
    "collapsed": true
   },
   "outputs": [],
   "source": [
    "id_matrix = id_matrix.flatMap(lambda x: [(x, i) for i in ids])"
   ]
  },
  {
   "cell_type": "code",
   "execution_count": 13,
   "metadata": {
    "collapsed": false
   },
   "outputs": [
    {
     "data": {
      "text/plain": [
       "[(1, 1),\n",
       " (1, 2),\n",
       " (1, 3),\n",
       " (1, 4),\n",
       " (2, 1),\n",
       " (2, 2),\n",
       " (2, 3),\n",
       " (2, 4),\n",
       " (3, 1),\n",
       " (3, 2)]"
      ]
     },
     "execution_count": 13,
     "metadata": {},
     "output_type": "execute_result"
    }
   ],
   "source": [
    "id_matrix.take(10)"
   ]
  },
  {
   "cell_type": "code",
   "execution_count": 17,
   "metadata": {
    "collapsed": false
   },
   "outputs": [],
   "source": [
    "id_joined = id_matrix\\\n",
    "    .join(rdd_full)\\\n",
    "    .map(lambda x: (x[1][0], (x[0], x[1][1])))\\\n",
    "    .join(rdd_full)\\\n",
    "    .map(lambda x: ((x[0], x[1][0][0]), (x[1][1], x[1][0][1])))"
   ]
  },
  {
   "cell_type": "code",
   "execution_count": 19,
   "metadata": {
    "collapsed": false
   },
   "outputs": [
    {
     "data": {
      "text/plain": [
       "[((1, 1),\n",
       "  ({'football': 1, 'hs/college': 0, 'music': 0, 'premium': 0},\n",
       "   {'football': 1, 'hs/college': 0, 'music': 0, 'premium': 0})),\n",
       " ((1, 2),\n",
       "  ({'football': 1, 'hs/college': 0, 'music': 0, 'premium': 0},\n",
       "   {'football': 1, 'hs/college': 1, 'music': 1, 'premium': 1})),\n",
       " ((1, 3),\n",
       "  ({'football': 1, 'hs/college': 0, 'music': 0, 'premium': 0},\n",
       "   {'football': 1, 'hs/college': 0, 'music': 1, 'premium': 1})),\n",
       " ((1, 4),\n",
       "  ({'football': 1, 'hs/college': 0, 'music': 0, 'premium': 0},\n",
       "   {'football': 0, 'hs/college': 1, 'music': 0, 'premium': 1})),\n",
       " ((2, 1),\n",
       "  ({'football': 1, 'hs/college': 1, 'music': 1, 'premium': 1},\n",
       "   {'football': 1, 'hs/college': 0, 'music': 0, 'premium': 0})),\n",
       " ((2, 2),\n",
       "  ({'football': 1, 'hs/college': 1, 'music': 1, 'premium': 1},\n",
       "   {'football': 1, 'hs/college': 1, 'music': 1, 'premium': 1})),\n",
       " ((2, 3),\n",
       "  ({'football': 1, 'hs/college': 1, 'music': 1, 'premium': 1},\n",
       "   {'football': 1, 'hs/college': 0, 'music': 1, 'premium': 1})),\n",
       " ((2, 4),\n",
       "  ({'football': 1, 'hs/college': 1, 'music': 1, 'premium': 1},\n",
       "   {'football': 0, 'hs/college': 1, 'music': 0, 'premium': 1})),\n",
       " ((3, 1),\n",
       "  ({'football': 1, 'hs/college': 0, 'music': 1, 'premium': 1},\n",
       "   {'football': 1, 'hs/college': 0, 'music': 0, 'premium': 0})),\n",
       " ((3, 2),\n",
       "  ({'football': 1, 'hs/college': 0, 'music': 1, 'premium': 1},\n",
       "   {'football': 1, 'hs/college': 1, 'music': 1, 'premium': 1}))]"
      ]
     },
     "execution_count": 19,
     "metadata": {},
     "output_type": "execute_result"
    }
   ],
   "source": [
    "id_joined.take(10)"
   ]
  },
  {
   "cell_type": "code",
   "execution_count": 26,
   "metadata": {
    "collapsed": true
   },
   "outputs": [],
   "source": [
    "def dist(a, b):\n",
    "    dist = 0.\n",
    "    for key in a:\n",
    "        dist += abs(a[key]-b[key])\n",
    "    return dist"
   ]
  },
  {
   "cell_type": "code",
   "execution_count": 27,
   "metadata": {
    "collapsed": false
   },
   "outputs": [],
   "source": [
    "distances = id_joined\\\n",
    "    .map(lambda x: (x[0][0], [(x[0][1],dist(x[1][0], x[1][1]))]))\\\n",
    "    .reduceByKey(lambda a,b: a+b)"
   ]
  },
  {
   "cell_type": "code",
   "execution_count": 28,
   "metadata": {
    "collapsed": false
   },
   "outputs": [
    {
     "data": {
      "text/plain": [
       "[(1, [(1, 0.0), (2, 3.0), (3, 2.0), (4, 3.0)]),\n",
       " (2, [(1, 3.0), (2, 0.0), (3, 1.0), (4, 2.0)]),\n",
       " (3, [(1, 2.0), (2, 1.0), (3, 0.0), (4, 3.0)]),\n",
       " (4, [(1, 3.0), (2, 2.0), (3, 3.0), (4, 0.0)])]"
      ]
     },
     "execution_count": 28,
     "metadata": {},
     "output_type": "execute_result"
    }
   ],
   "source": [
    "distances.map(lambda x: ("
   ]
  },
  {
   "cell_type": "code",
   "execution_count": null,
   "metadata": {
    "collapsed": true
   },
   "outputs": [],
   "source": []
  }
 ],
 "metadata": {
  "kernelspec": {
   "display_name": "Python 2",
   "language": "python",
   "name": "python2"
  },
  "language_info": {
   "codemirror_mode": {
    "name": "ipython",
    "version": 2
   },
   "file_extension": ".py",
   "mimetype": "text/x-python",
   "name": "python",
   "nbconvert_exporter": "python",
   "pygments_lexer": "ipython2",
   "version": "2.7.8"
  }
 },
 "nbformat": 4,
 "nbformat_minor": 0
}
