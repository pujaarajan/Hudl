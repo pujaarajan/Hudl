{
 "cells": [
  {
   "cell_type": "markdown",
   "metadata": {},
   "source": [
    "1. Create the matrix\n",
    "a. Pull data from highlights\n",
    "b. Get the sport, age, gender, length, views\n",
    "c. Populate the matrix"
   ]
  },
  {
   "cell_type": "code",
   "execution_count": null,
   "metadata": {
    "collapsed": true
   },
   "outputs": [],
   "source": [
    "#ask someone how to know what sport from highlights and how to know age from school and gender"
   ]
  },
  {
   "cell_type": "code",
   "execution_count": null,
   "metadata": {
    "collapsed": true
   },
   "outputs": [],
   "source": [
    "#add length and views"
   ]
  },
  {
   "cell_type": "code",
   "execution_count": null,
   "metadata": {
    "collapsed": true
   },
   "outputs": [],
   "source": [
    "#things to add maybe location of the first video"
   ]
  },
  {
   "cell_type": "code",
   "execution_count": null,
   "metadata": {
    "collapsed": true
   },
   "outputs": [],
   "source": [
    "#what is in ai (athlete id) is there sport or age or gender"
   ]
  },
  {
   "cell_type": "code",
   "execution_count": 2,
   "metadata": {
    "collapsed": true
   },
   "outputs": [],
   "source": [
    "import json"
   ]
  },
  {
   "cell_type": "code",
   "execution_count": 9,
   "metadata": {
    "collapsed": false
   },
   "outputs": [],
   "source": [
    "sqlc = HiveContext(sc)\n",
    "user_highlights = sc.textFile(\"s3://ds-fulla/mongo/20150507/monolith/highlights/userhighlights/\")\\\n",
    "    .map(json.loads)\\\n",
    "    .filter(lambda x: '_id' in x)"
   ]
  },
  {
   "cell_type": "code",
   "execution_count": 12,
   "metadata": {
    "collapsed": false
   },
   "outputs": [
    {
     "data": {
      "text/plain": [
       "[{u'_id': 42964,\n",
       "  u'ai': [{u'j': 24,\n",
       "    u'ps': [u'RB'],\n",
       "    u's': 890,\n",
       "    u'sl': u'Elma, NY',\n",
       "    u'sn': u'Iroquois Central School',\n",
       "    u'st': 1,\n",
       "    u't': 2412}],\n",
       "  u'c': [{u'_t': u'BaseHighlightClip',\n",
       "    u'an': u'Tight',\n",
       "    u'c': 3755378,\n",
       "    u'd': 113960000,\n",
       "    u'mf': [{u'fn': u'890/2412/3148/20264/4/iroquoisvs.westsenecaeast - Tight - Clip 010.wmv',\n",
       "      u'fs': 1637235,\n",
       "      u'ft': 1,\n",
       "      u'ha': False,\n",
       "      u'q': 25,\n",
       "      u'rv': {u'$binary': u'AAAAAAA69rI=', u'$type': u'00'},\n",
       "      u's': 1}],\n",
       "    u'sv': 3,\n",
       "    u't': 2412,\n",
       "    u'th': u'890/2412/3148/20264/4/iroquoisvs.westsenecaeast - Tight - Clip 010.jpg'},\n",
       "   {u'_t': u'BaseHighlightClip',\n",
       "    u'an': u'Tight',\n",
       "    u'c': 3755422,\n",
       "    u'd': 119280000,\n",
       "    u'mf': [{u'fn': u'890/2412/3148/20264/4/iroquoisvs.westsenecaeast - Tight - Clip 054.wmv',\n",
       "      u'fs': 1693235,\n",
       "      u'ft': 1,\n",
       "      u'ha': False,\n",
       "      u'q': 25,\n",
       "      u'rv': {u'$binary': u'AAAAAAA69yc=', u'$type': u'00'},\n",
       "      u's': 1}],\n",
       "    u'sv': 3,\n",
       "    u't': 2412,\n",
       "    u'th': u'890/2412/3148/20264/4/iroquoisvs.westsenecaeast - Tight - Clip 054.jpg'}],\n",
       "  u'ct': 4,\n",
       "  u'dc': {u'$date': 1267596044947},\n",
       "  u'du': {u'$date': 1397217034228},\n",
       "  u'fn': u'Jimmy',\n",
       "  u'g': 20264,\n",
       "  u'gd': {u'$date': 1255784400000},\n",
       "  u'gy': 2013,\n",
       "  u'ln': u'Kloc',\n",
       "  u'os': u'Lake Shore central',\n",
       "  u'p': False,\n",
       "  u'prsd': {u'fn': None,\n",
       "   u'hfn': None,\n",
       "   u'ra': None,\n",
       "   u's': 6,\n",
       "   u'v': 635328138342286948},\n",
       "  u'ss': 3148,\n",
       "  u'sui': u'2PFFh',\n",
       "  u'sv': 3,\n",
       "  u'sy': u'2009-2010 Season',\n",
       "  u'tp': u'890/2412/3148/20264/4/iroquoisvs.westsenecaeast - Tight - Clip 010.jpg',\n",
       "  u'u': 42601}]"
      ]
     },
     "execution_count": 12,
     "metadata": {},
     "output_type": "execute_result"
    }
   ],
   "source": [
    "user_highlights.take(1)"
   ]
  },
  {
   "cell_type": "code",
   "execution_count": 11,
   "metadata": {
    "collapsed": true
   },
   "outputs": [],
   "source": [
    "highlight_matrix = user_highlights.map(lambda x: highlight_property(x))"
   ]
  },
  {
   "cell_type": "code",
   "execution_count": 5,
   "metadata": {
    "collapsed": true
   },
   "outputs": [],
   "source": [
    "def highlight_property(x):\n",
    "    #premium\n",
    "    if 'p' in x and 'p'== True:\n",
    "        p = 1\n",
    "    else:\n",
    "        p = 0\n",
    "        \n",
    "    #music\n",
    "    if 'hm' in x:\n",
    "        hm = 1\n",
    "    else:\n",
    "        hm = 0\n",
    "        \n",
    "    #extra text\n",
    "    if 'xt' in x:\n",
    "        xt = 1\n",
    "    else:\n",
    "        xt = 0\n",
    "    dictionary = (x['_id'], {'Premium': p, 'Music': hm, 'Extra Text' : xt})\n",
    "    return dictionary"
   ]
  },
  {
   "cell_type": "code",
   "execution_count": 13,
   "metadata": {
    "collapsed": false
   },
   "outputs": [
    {
     "data": {
      "text/plain": [
       "[(1, {'Extra Text': 0, 'Music': 0, 'Premium': 0})]"
      ]
     },
     "execution_count": 13,
     "metadata": {},
     "output_type": "execute_result"
    }
   ],
   "source": [
    "highlight_matrix.take(1)"
   ]
  },
  {
   "cell_type": "code",
   "execution_count": null,
   "metadata": {
    "collapsed": true
   },
   "outputs": [],
   "source": []
  }
 ],
 "metadata": {
  "kernelspec": {
   "display_name": "Python 2",
   "language": "python",
   "name": "python2"
  }
 },
 "nbformat": 4,
 "nbformat_minor": 0
}
