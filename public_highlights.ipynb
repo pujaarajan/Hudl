{
 "cells": [
  {
   "cell_type": "markdown",
   "metadata": {},
   "source": [
    "#Public Highlights\n",
    "##Python Code\n",
    "* **About the Data**\n",
    "    * Got data from userhighlights not teamhighlights\n",
    "    * All userhighlights = 7286510\n",
    "    * Userhighlights with views = 6927719\n",
    "    * *5% of deleted because data no v for view*\n",
    "* **More information**\n",
    "    * mean: 24.9429066046\n",
    "    * stdev: 505.207633089\n",
    "    * max: 1056352.0\n",
    "    * min: 0.0\n",
    "    * median: 4.0\n",
    "        * *after removing 0 views median is 6*\n",
    "* **Zero Views**\n",
    "    * 1134396 highlights\n",
    "        * *16% of all userhighlights*\n",
    "    * 99.8% of the 0 views are non premium highlights\n",
    "        * 18% of all non premium highlights are 0 views\n",
    "    * .3% of all premium highlights are 0 views\n",
    "        * .2 % of the 0 views are non premium highlights\n",
    "    "
   ]
  },
  {
   "cell_type": "code",
   "execution_count": 10,
   "metadata": {
    "collapsed": false
   },
   "outputs": [],
   "source": [
    "import json\n",
    "import plotly\n",
    "import plotly.plotly as py\n",
    "from plotly.graph_objs import *\n",
    "import numpy\n",
    "from plotly import tools\n",
    "import time\n",
    "plotly.tools.set_credentials_file(username='pujaarajan', api_key='7m16vvaw4j')"
   ]
  },
  {
   "cell_type": "code",
   "execution_count": 3,
   "metadata": {
    "collapsed": true
   },
   "outputs": [],
   "source": [
    "def reject_outliers(data):\n",
    "    third_quartile = numpy.percentile(data, 75)\n",
    "    first_quartile = numpy.percentile(data, 25)\n",
    "    outlier = (third_quartile - first_quartile)*3\n",
    "    lower_limit = first_quartile - outlier\n",
    "    upper_limit = third_quartile + outlier\n",
    "    return [x for x in data if x < upper_limit and x > lower_limit]"
   ]
  },
  {
   "cell_type": "code",
   "execution_count": null,
   "metadata": {
    "collapsed": true
   },
   "outputs": [],
   "source": [
    "def reject_xoutliers(data):\n",
    "    x_data = [x[0] for x in data]\n",
    "    third_quartile = numpy.percentile(x_data, 75)\n",
    "    first_quartile = numpy.percentile(x_data, 25)\n",
    "    outlier = (third_quartile - first_quartile)*3\n",
    "    lower_limit = first_quartile - outlier\n",
    "    upper_limit = third_quartile + outlier\n",
    "    new_data = []\n",
    "    x_count = 0\n",
    "    for x in x_data:\n",
    "        if x < 0:\n",
    "            x_count = x_count + 1\n",
    "        elif x_data[x_count] < upper_limit and x_data[x_count] > lower_limit:\n",
    "            new_data.append(data[x_count])\n",
    "            x_count = x_count + 1\n",
    "        else:\n",
    "            x_count = x_count + 1\n",
    "    return new_data\n",
    "\n",
    "def reject_youtliers(data):\n",
    "    y_data = [y[1] for y in data]\n",
    "    third_quartile = numpy.percentile(y_data, 75)\n",
    "    first_quartile = numpy.percentile(y_data, 25)\n",
    "    outlier = (third_quartile - first_quartile)*3\n",
    "    lower_limit = first_quartile - outlier\n",
    "    upper_limit = third_quartile + outlier\n",
    "    new_data = []\n",
    "    y_count = 0\n",
    "    for y in y_data:\n",
    "        if y_data[y_count] < upper_limit and y_data[y_count] > lower_limit:\n",
    "            new_data.append(data[y_count])\n",
    "            y_count = y_count + 1\n",
    "        else:\n",
    "            y_count = y_count + 1\n",
    "    return new_data"
   ]
  },
  {
   "cell_type": "code",
   "execution_count": 4,
   "metadata": {
    "collapsed": false,
    "scrolled": true
   },
   "outputs": [],
   "source": [
    "sqlc = HiveContext(sc)\n",
    "user_highlights = sc.textFile(\"s3://ds-fulla/mongo/20150507/monolith/highlights/userhighlights/\").map(json.loads)\n",
    "highlight_views = user_highlights.filter(lambda x: 'v' in x.keys())"
   ]
  },
  {
   "cell_type": "code",
   "execution_count": 7,
   "metadata": {
    "collapsed": true
   },
   "outputs": [],
   "source": [
    "histogram = highlight_views.map(lambda x: x['v']).collect()"
   ]
  },
  {
   "cell_type": "code",
   "execution_count": 16,
   "metadata": {
    "collapsed": false
   },
   "outputs": [
    {
     "data": {
      "text/html": [
       "<iframe id=\"igraph\" scrolling=\"no\" style=\"border:none;\"seamless=\"seamless\" src=\"https://plot.ly/~pujaarajan/463.embed\" height=\"525\" width=\"100%\"></iframe>"
      ],
      "text/plain": [
       "<plotly.tools.PlotlyDisplay object>"
      ]
     },
     "execution_count": 16,
     "metadata": {},
     "output_type": "execute_result"
    }
   ],
   "source": [
    "data = Data([Histogram(x=histogram)])\n",
    "\n",
    "layout = dict(\n",
    "   title='Public Highlight Analysis',\n",
    "   yaxis=YAxis(\n",
    "       title = 'Frequency'),\n",
    "   xaxis1=XAxis(\n",
    "       title = \"Number of Highlight Views\", range = [0,200])\n",
    "   )\n",
    "fig = Figure(data=data, layout=layout)\n",
    "py.iplot(fig)"
   ]
  },
  {
   "cell_type": "code",
   "execution_count": 25,
   "metadata": {
    "collapsed": false,
    "scrolled": true
   },
   "outputs": [
    {
     "data": {
      "text/plain": [
       "4.0"
      ]
     },
     "execution_count": 25,
     "metadata": {},
     "output_type": "execute_result"
    }
   ],
   "source": [
    "all_views = highlight_views.map(lambda x: x['v']).reduce(lambda a,b: a+b)\n",
    "zero_views = highlight_views.filter(lambda x: x['v']==0)\n",
    "highlight_views.map(lambda x: x['v']).stats()\n",
    "yz_median = numpy.median(highlight_views.map(lambda x: x['v']).collect())\n",
    "nz_median = numpy.median(highlight_views.filter(lambda x: x['v']!=0).map(lambda x: x['v']).collect())"
   ]
  },
  {
   "cell_type": "code",
   "execution_count": 19,
   "metadata": {
    "collapsed": false
   },
   "outputs": [
    {
     "data": {
      "text/plain": [
       "(count: 6316783, mean: 6.84204443939, stdev: 8.66066699361, max: 44.0, min: 0.0)"
      ]
     },
     "execution_count": 19,
     "metadata": {},
     "output_type": "execute_result"
    }
   ],
   "source": [
    "sc.parallelize(reject_outliers(histogram)).stats()"
   ]
  },
  {
   "cell_type": "code",
   "execution_count": 21,
   "metadata": {
    "collapsed": false
   },
   "outputs": [
    {
     "data": {
      "text/plain": [
       "3.0"
      ]
     },
     "execution_count": 21,
     "metadata": {},
     "output_type": "execute_result"
    }
   ],
   "source": [
    "numpy.median(reject_outliers(histogram))"
   ]
  },
  {
   "cell_type": "code",
   "execution_count": 20,
   "metadata": {
    "collapsed": false
   },
   "outputs": [
    {
     "data": {
      "text/plain": [
       "(count: 6927719, mean: 24.9429066046, stdev: 505.207633089, max: 1056352.0, min: 0.0)"
      ]
     },
     "execution_count": 20,
     "metadata": {},
     "output_type": "execute_result"
    }
   ],
   "source": [
    "highlight_views.map(lambda x: x['v']).stats()\n"
   ]
  },
  {
   "cell_type": "markdown",
   "metadata": {},
   "source": [
    "##Premium\n",
    "* Premium highlights = 636552 \n",
    "* Premium highlight views = 114767406  \n",
    "* Premium view information\n",
    "    * mean: 180.295413415\n",
    "    * stdev: 1652.72230355\n",
    "    * max: 1056352.0\n",
    "    * min: 0.0\n",
    "    * median: 72"
   ]
  },
  {
   "cell_type": "code",
   "execution_count": 4,
   "metadata": {
    "collapsed": false,
    "scrolled": true
   },
   "outputs": [
    {
     "data": {
      "text/plain": [
       "(count: 636552, mean: 180.295413415, stdev: 1652.72230355, max: 1056352.0, min: 0.0)"
      ]
     },
     "execution_count": 4,
     "metadata": {},
     "output_type": "execute_result"
    }
   ],
   "source": [
    "yp_map = highlight_views.filter(lambda x: x['p']).map(lambda x: x['v'])\n",
    "yp_reduce = yp_map.reduce(lambda a,b: a+b)\n",
    "yp_views = yp_map.collect()\n",
    "yp_median = numpy.median(yp_views)\n",
    "yp_map.stats()"
   ]
  },
  {
   "cell_type": "code",
   "execution_count": null,
   "metadata": {
    "collapsed": false
   },
   "outputs": [],
   "source": [
    "zyp_views = zero_views.filter(lambda x: x['p']).count()\n",
    "nzyp_map = yp_map.filter(lambda x: x!=0)\n",
    "nzyp_reduce = nzyp_map.reduce(lambda a,b: a+b)\n",
    "nzyp_views = nzyp_map.collect()\n",
    "nzyp_median = numpy.median(nzyp_views)\n",
    "nzyp_map.stats()"
   ]
  },
  {
   "cell_type": "code",
   "execution_count": null,
   "metadata": {
    "collapsed": false
   },
   "outputs": [],
   "source": [
    "no_yp = reject_outliers(yp_views)"
   ]
  },
  {
   "cell_type": "code",
   "execution_count": 29,
   "metadata": {
    "collapsed": false
   },
   "outputs": [
    {
     "name": "stdout",
     "output_type": "stream",
     "text": [
      "The draw time for this plot will be slow for all clients.\n"
     ]
    },
    {
     "data": {
      "text/html": [
       "<iframe id=\"igraph\" scrolling=\"no\" style=\"border:none;\"seamless=\"seamless\" src=\"https://plot.ly/~pujaarajan/314.embed\" height=\"525\" width=\"100%\"></iframe>"
      ],
      "text/plain": [
       "<plotly.tools.PlotlyDisplay object>"
      ]
     },
     "execution_count": 29,
     "metadata": {},
     "output_type": "execute_result"
    }
   ],
   "source": [
    "data = Data([\n",
    "    Bar(\n",
    "        y=[x/float(114767406) for x in yp_views],\n",
    "        x=[x for x in yp_views],\n",
    "        name='Relative Frequency')])\n",
    "        #autobinx=True,\n",
    "        #xbins=XBins(start=min(x),end=max(x),size=1)\n",
    "        \n",
    "\n",
    "layout = Layout(xaxis=XAxis(type='log',title = \"Number of Premium Highlight Views\")\n",
    "                ,yaxis=YAxis(title = \"Frequency\"))\n",
    "\n",
    "fig = Figure(data = data, layout = layout)\n",
    "py.iplot(fig)"
   ]
  },
  {
   "cell_type": "markdown",
   "metadata": {},
   "source": [
    "##Not premium\n",
    "* Not premium highlights = 6291167\n",
    "* Not premium highlight views = 58030042 \n",
    "* Not premium view information\n",
    "    * mean: 9.22405048221\n",
    "    * stdev: 44.6484461505\n",
    "    * max: 71279.0\n",
    "    * min: 0.0\n",
    "    * median: 3"
   ]
  },
  {
   "cell_type": "code",
   "execution_count": 13,
   "metadata": {
    "collapsed": false
   },
   "outputs": [
    {
     "data": {
      "text/plain": [
       "(count: 6291167, mean: 9.22405048221, stdev: 44.6484461505, max: 71279.0, min: 0.0)"
      ]
     },
     "execution_count": 13,
     "metadata": {},
     "output_type": "execute_result"
    }
   ],
   "source": [
    "np_map = highlight_views.filter(lambda x: x['p'] == False).map(lambda x: x['v'])\n",
    "np_zero = zero_views.filter(lambda x: x['p'] == False).count()\n",
    "np_reduce = np_map.reduce(lambda a,b: a+b)\n",
    "np_views = np_map.collect()\n",
    "np_median = numpy.median(np_views)\n",
    "np_map.stats()"
   ]
  },
  {
   "cell_type": "markdown",
   "metadata": {},
   "source": [
    "##Spot Shadows\n",
    "* Highlights with spot shadows = 1668958\n",
    "    * *1673769 before removing hightlights without views*\n",
    "    * *.2% data lost*\n",
    "* Highlights with spot shadows views = 82279191 \n",
    "* Highlights with spot shadows view information\n",
    "    * mean: 49.2997373211\n",
    "    * stdev: 557.941787933\n",
    "    * max: 633356.0\n",
    "    * min: 0.0\n",
    "    * median: 6"
   ]
  },
  {
   "cell_type": "code",
   "execution_count": 7,
   "metadata": {
    "collapsed": true
   },
   "outputs": [],
   "source": [
    "def spot_shadow(x):\n",
    "    if x != None:\n",
    "        clip_dictionary = x['c']\n",
    "        if clip_dictionary != None:\n",
    "            for clip in clip_dictionary:\n",
    "                if clip!= None and 'ss' in clip.keys():\n",
    "                    return True\n",
    "                else:\n",
    "                    return False\n",
    "        else:\n",
    "            return False\n",
    "    else:\n",
    "        return False"
   ]
  },
  {
   "cell_type": "code",
   "execution_count": 8,
   "metadata": {
    "collapsed": false
   },
   "outputs": [
    {
     "data": {
      "text/plain": [
       "(count: 1668958, mean: 49.2997373211, stdev: 557.941787933, max: 633356.0, min: 0.0)"
      ]
     },
     "execution_count": 8,
     "metadata": {},
     "output_type": "execute_result"
    }
   ],
   "source": [
    "ss_map = highlight_views.filter(lambda x: spot_shadow(x)).map(lambda x: x['v'])\n",
    "ss_reduce = ss_map.reduce(lambda a,b: a+b)\n",
    "ss_views = ss_map.collect()\n",
    "ss_median = numpy.median(ss_views)\n",
    "ss_map.stats()"
   ]
  },
  {
   "cell_type": "code",
   "execution_count": null,
   "metadata": {
    "collapsed": false
   },
   "outputs": [],
   "source": [
    "nzss_map = ss_map.filter(lambda x: x!=0)\n",
    "nzss_reduce = nzss_map.reduce(lambda a,b: a+b)\n",
    "nzss_views = nzss_map.collect()\n",
    "nzss_median = numpy.median(nzss_views)\n",
    "nzss_map.stats()"
   ]
  },
  {
   "cell_type": "code",
   "execution_count": null,
   "metadata": {
    "collapsed": true
   },
   "outputs": [],
   "source": [
    "no_ss = reject_outliers(ss_views)"
   ]
  },
  {
   "cell_type": "markdown",
   "metadata": {},
   "source": [
    "##No Spot Shadow\n",
    "* Highlights without spot shadows = 5252045 \n",
    "* Highlights without spot shadows views = 90433739 \n",
    "* Highlights without spot shadows information\n",
    "    * mean: 17.2187669755\n",
    "    * stdev: 487.332510668\n",
    "    * max: 1056352.0\n",
    "    * min: 0.0\n",
    "    * median: 4.0"
   ]
  },
  {
   "cell_type": "code",
   "execution_count": 9,
   "metadata": {
    "collapsed": false
   },
   "outputs": [
    {
     "data": {
      "text/plain": [
       "(count: 5252045, mean: 17.2187669755, stdev: 487.332510668, max: 1056352.0, min: 0.0)"
      ]
     },
     "execution_count": 9,
     "metadata": {},
     "output_type": "execute_result"
    }
   ],
   "source": [
    "nss_map = highlight_views.filter(lambda x: spot_shadow(x) == False).map(lambda x: x['v'])\n",
    "nss_zero = zero_views.filter(lambda x: spot_shadow(x) == False).count()\n",
    "nss_reduce = nss_map.reduce(lambda a,b: a+b)\n",
    "nss_views = nss_map.collect()\n",
    "nss_median = numpy.median(nss_views)\n",
    "nss_map.stats()"
   ]
  },
  {
   "cell_type": "code",
   "execution_count": 41,
   "metadata": {
    "collapsed": false
   },
   "outputs": [
    {
     "data": {
      "text/plain": [
       "90433739"
      ]
     },
     "execution_count": 41,
     "metadata": {},
     "output_type": "execute_result"
    }
   ],
   "source": [
    "nss_reduce"
   ]
  },
  {
   "cell_type": "markdown",
   "metadata": {},
   "source": [
    "##Slow Motion\n",
    "* Highlights with slow motion = 10\n",
    "* Highlight with slow motion views = 97\n",
    "* Highlights with slow motion view information\n",
    "    * mean: 9.7\n",
    "    * stdev: 15.9\n",
    "    * max: 55.0\n",
    "    * min: 0.0\n",
    "    * median: 2"
   ]
  },
  {
   "cell_type": "code",
   "execution_count": 10,
   "metadata": {
    "collapsed": false
   },
   "outputs": [],
   "source": [
    "def slow_motion(x):\n",
    "    if x != None:\n",
    "        clip_dictionary = x['c']\n",
    "        if clip_dictionary != None:\n",
    "            for clip in clip_dictionary:\n",
    "                if clip!= None and 'sm' in clip.keys():\n",
    "                    return True\n",
    "                else:\n",
    "                    return False\n",
    "        else:\n",
    "            return False\n",
    "    else:\n",
    "        return False"
   ]
  },
  {
   "cell_type": "code",
   "execution_count": 11,
   "metadata": {
    "collapsed": false
   },
   "outputs": [
    {
     "data": {
      "text/plain": [
       "(count: 10, mean: 9.7, stdev: 15.9, max: 55.0, min: 0.0)"
      ]
     },
     "execution_count": 11,
     "metadata": {},
     "output_type": "execute_result"
    }
   ],
   "source": [
    "sm_map = highlight_views.filter(lambda x: slow_motion(x)).map(lambda x: x['v'])\n",
    "sm_reduce = sm_map.reduce(lambda a,b: a+b)\n",
    "sm_views = sm_map.collect()\n",
    "sm_median = numpy.median(sm_views)\n",
    "sm_map.stats()"
   ]
  },
  {
   "cell_type": "code",
   "execution_count": 12,
   "metadata": {
    "collapsed": false
   },
   "outputs": [
    {
     "data": {
      "text/plain": [
       "(count: 8, mean: 12.125, stdev: 16.9295414882, max: 55.0, min: 1.0)"
      ]
     },
     "execution_count": 12,
     "metadata": {},
     "output_type": "execute_result"
    }
   ],
   "source": [
    "nzsm_map = sm_map.filter(lambda x: x!=0)\n",
    "nzsm_reduce = nzsm_map.reduce(lambda a,b: a+b)\n",
    "nzsm_views = nzsm_map.collect()\n",
    "nzsm_median = numpy.median(nzsm_views)\n",
    "nzsm_map.stats()"
   ]
  },
  {
   "cell_type": "code",
   "execution_count": 14,
   "metadata": {
    "collapsed": true
   },
   "outputs": [],
   "source": [
    "no_sm = reject_outliers(sm_views)"
   ]
  },
  {
   "cell_type": "markdown",
   "metadata": {},
   "source": [
    "##No Slow Motion\n",
    "* Highlights without slow motion = 6920993 \n",
    "* Highlight without slow motion views = 172712833 \n",
    "* Highlights without slow motion view information\n",
    "    * mean: 24.9549209196 \n",
    "    * stdev: 505.449863751\n",
    "    * max: 1056352.0\n",
    "    * min: 0.0\n",
    "    * median: 4"
   ]
  },
  {
   "cell_type": "code",
   "execution_count": 32,
   "metadata": {
    "collapsed": false
   },
   "outputs": [
    {
     "data": {
      "text/plain": [
       "(count: 6920993, mean: 24.9549209196, stdev: 505.449863751, max: 1056352.0, min: 0.0)"
      ]
     },
     "execution_count": 32,
     "metadata": {},
     "output_type": "execute_result"
    }
   ],
   "source": [
    "nsm_map = highlight_views.filter(lambda x: slow_motion(x) == False).map(lambda x: x['v'])\n",
    "nsm_zero = zero_views.filter(lambda x: slow_motion(x) == False).count()\n",
    "nsm_reduce = nsm_map.reduce(lambda a,b: a+b)\n",
    "nsm_views = nsm_map.collect()\n",
    "nsm_median = numpy.median(nsm_views)\n",
    "nsm_map.stats()"
   ]
  },
  {
   "cell_type": "markdown",
   "metadata": {
    "collapsed": false,
    "scrolled": true
   },
   "source": [
    "##Music\n",
    "* Highlights with music = 500195\n",
    "* Highlight with music views = 95432835\n",
    "* Highlights with music view information\n",
    "    * mean: 190.791261408\n",
    "    * stdev: 1851.80389818\n",
    "    * max: 1056352.0\n",
    "    * min: 0.0\n",
    "    * median: 77"
   ]
  },
  {
   "cell_type": "code",
   "execution_count": 15,
   "metadata": {
    "collapsed": true
   },
   "outputs": [],
   "source": [
    "def highlight_music(x):\n",
    "        if x!= None and 'hm' in x.keys():\n",
    "            return True\n",
    "        else:\n",
    "            return False"
   ]
  },
  {
   "cell_type": "code",
   "execution_count": 16,
   "metadata": {
    "collapsed": false,
    "scrolled": false
   },
   "outputs": [
    {
     "data": {
      "text/plain": [
       "(count: 500195, mean: 190.791261408, stdev: 1851.80389818, max: 1056352.0, min: 0.0)"
      ]
     },
     "execution_count": 16,
     "metadata": {},
     "output_type": "execute_result"
    }
   ],
   "source": [
    "hm_map = highlight_views.filter(lambda x: highlight_music(x)).map(lambda x: x['v'])\n",
    "hm_reduce = hm_map.reduce(lambda a,b: a+b)\n",
    "hm_views = hm_map.collect()\n",
    "hm_median = numpy.median(hm_views)\n",
    "hm_map.stats()"
   ]
  },
  {
   "cell_type": "code",
   "execution_count": 17,
   "metadata": {
    "collapsed": false
   },
   "outputs": [
    {
     "data": {
      "text/plain": [
       "(count: 498530, mean: 191.428469701, stdev: 1854.86078467, max: 1056352.0, min: 1.0)"
      ]
     },
     "execution_count": 17,
     "metadata": {},
     "output_type": "execute_result"
    }
   ],
   "source": [
    "nzhm_map = hm_map.filter(lambda x: x!=0)\n",
    "nzhm_reduce = nzhm_map.reduce(lambda a,b: a+b)\n",
    "nzhm_views = nzhm_map.collect()\n",
    "nzhm_median = numpy.median(nzhm_views)\n",
    "nzhm_map.stats()"
   ]
  },
  {
   "cell_type": "code",
   "execution_count": 18,
   "metadata": {
    "collapsed": true
   },
   "outputs": [],
   "source": [
    "no_hm = reject_outliers(hm_views)"
   ]
  },
  {
   "cell_type": "markdown",
   "metadata": {},
   "source": [
    "##No Music\n",
    "* Highlights with music = 6427524 \n",
    "* Highlight with music views = 95432835\n",
    "* Highlights with music view information\n",
    "    * mean: 12.0364564955 \n",
    "    * stdev: 76.9994446654 \n",
    "    * max: 71279.0 \n",
    "    * min: 0.0\n",
    "    * median: 4.0"
   ]
  },
  {
   "cell_type": "code",
   "execution_count": 19,
   "metadata": {
    "collapsed": false,
    "scrolled": true
   },
   "outputs": [
    {
     "data": {
      "text/plain": [
       "(count: 6427524, mean: 12.0364564955, stdev: 76.9994446654, max: 71279.0, min: 0.0)"
      ]
     },
     "execution_count": 19,
     "metadata": {},
     "output_type": "execute_result"
    }
   ],
   "source": [
    "nhm_map = highlight_views.filter(lambda x: highlight_music(x) == False).map(lambda x: x['v'])\n",
    "nhm_zero = zero_views.filter(lambda x: highlight_music(x) == False).count()\n",
    "nhm_reduce = nhm_map.reduce(lambda a,b: a+b)\n",
    "nhm_views = nhm_map.collect()\n",
    "nhm_median = numpy.median(nhm_views)\n",
    "nhm_map.stats()"
   ]
  },
  {
   "cell_type": "markdown",
   "metadata": {},
   "source": [
    "##Extra Text\n",
    "* Highlights with extra text = 287203\n",
    "    * *296086 before removing highlights without views*\n",
    "    * *3% data lost*\n",
    "* Highlight with extra text views = 50743514\n",
    "* Highlights with extra text information\n",
    "    * mean: 176.681699007\n",
    "    * stdev: 514.299588065\n",
    "    * max: 54566.0\n",
    "    * min: 0.0\n",
    "    * median: 77"
   ]
  },
  {
   "cell_type": "code",
   "execution_count": 20,
   "metadata": {
    "collapsed": true
   },
   "outputs": [],
   "source": [
    "def extra_text(x):\n",
    "        if x!= None and 'xt' in x.keys():\n",
    "            return True\n",
    "        else:\n",
    "            return False"
   ]
  },
  {
   "cell_type": "code",
   "execution_count": 21,
   "metadata": {
    "collapsed": false
   },
   "outputs": [
    {
     "data": {
      "text/plain": [
       "(count: 287203, mean: 176.681699007, stdev: 514.299588065, max: 54566.0, min: 0.0)"
      ]
     },
     "execution_count": 21,
     "metadata": {},
     "output_type": "execute_result"
    }
   ],
   "source": [
    "xt_map = highlight_views.filter(lambda x: extra_text(x)).map(lambda x: x['v'])\n",
    "xt_reduce = xt_map.reduce(lambda a,b: a+b)\n",
    "xt_views = xt_map.collect()\n",
    "xt_median = numpy.median(xt_views)\n",
    "xt_map.stats()"
   ]
  },
  {
   "cell_type": "code",
   "execution_count": 22,
   "metadata": {
    "collapsed": false
   },
   "outputs": [
    {
     "data": {
      "text/plain": [
       "(count: 286925, mean: 176.8528849, stdev: 514.519259163, max: 54566.0, min: 1.0)"
      ]
     },
     "execution_count": 22,
     "metadata": {},
     "output_type": "execute_result"
    }
   ],
   "source": [
    "nzxt_map = xt_map.filter(lambda x: x!=0)\n",
    "nzxt_reduce = nzxt_map.reduce(lambda a,b: a+b)\n",
    "nzxt_views = nzxt_map.collect()\n",
    "nzxt_median = numpy.median(nzxt_views)\n",
    "nzxt_map.stats()"
   ]
  },
  {
   "cell_type": "code",
   "execution_count": 23,
   "metadata": {
    "collapsed": true
   },
   "outputs": [],
   "source": [
    "no_xt = reject_outliers(xt_views)"
   ]
  },
  {
   "cell_type": "markdown",
   "metadata": {},
   "source": [
    "#No extra text\n",
    "* Highlights without extra text = 6640516 \n",
    "    * *296086 before removing highlights without views*\n",
    "    * *3% data lost*\n",
    "* Highlight without extra text views = 122053934 \n",
    "* Highlights without extra text information\n",
    "    * mean: 18.3801882263\n",
    "    * stdev: 503.780672043 \n",
    "    * max: 1056352.0 \n",
    "    * min: 0.0\n",
    "    * median: 4.0"
   ]
  },
  {
   "cell_type": "code",
   "execution_count": 24,
   "metadata": {
    "collapsed": false
   },
   "outputs": [
    {
     "data": {
      "text/plain": [
       "(count: 6640516, mean: 18.3801882263, stdev: 503.780672043, max: 1056352.0, min: 0.0)"
      ]
     },
     "execution_count": 24,
     "metadata": {},
     "output_type": "execute_result"
    }
   ],
   "source": [
    "net_map = highlight_views.filter(lambda x: extra_text(x) == False).map(lambda x: x['v'])\n",
    "net_zero = zero_views.filter(lambda x: extra_text(x) == False).count()\n",
    "net_reduce = net_map.reduce(lambda a,b: a+b)\n",
    "net_views = net_map.collect()\n",
    "net_median = numpy.median(net_views)\n",
    "net_map.stats()"
   ]
  },
  {
   "cell_type": "markdown",
   "metadata": {},
   "source": [
    "##Top Play\n",
    "* Highlights with top play = 6429859\n",
    "    * 6486866 before removing highlights without views\n",
    "    * .9% data lost\n",
    "* Highlight with top play views = 164196611\n",
    "* Highlights with extra text information\n",
    "    * mean: 25.5365803511\n",
    "    * stdev: 523.580771891\n",
    "    * max: 1056352.0\n",
    "    * min: 0.0\n",
    "    * median: 4"
   ]
  },
  {
   "cell_type": "code",
   "execution_count": 25,
   "metadata": {
    "collapsed": true
   },
   "outputs": [],
   "source": [
    "def top_play(x):\n",
    "        if x!= None and 'itp' in x.keys():\n",
    "            return True\n",
    "        else:\n",
    "            return False"
   ]
  },
  {
   "cell_type": "code",
   "execution_count": 26,
   "metadata": {
    "collapsed": false
   },
   "outputs": [
    {
     "data": {
      "text/plain": [
       "(count: 6429859, mean: 25.5365803511, stdev: 523.580771891, max: 1056352.0, min: 0.0)"
      ]
     },
     "execution_count": 26,
     "metadata": {},
     "output_type": "execute_result"
    }
   ],
   "source": [
    "ytp_map = highlight_views.filter(lambda x: top_play(x)).map(lambda x: x['v'])\n",
    "ytp_reduce = ytp_map.reduce(lambda a,b: a+b)\n",
    "ytp_views = ytp_map.collect()\n",
    "ytp_median = numpy.median(ytp_views)\n",
    "ytp_map.stats()"
   ]
  },
  {
   "cell_type": "code",
   "execution_count": 27,
   "metadata": {
    "collapsed": false
   },
   "outputs": [
    {
     "data": {
      "text/plain": [
       "(count: 5295463, mean: 31.0070358343, stdev: 576.795363943, max: 1056352.0, min: 1.0)"
      ]
     },
     "execution_count": 27,
     "metadata": {},
     "output_type": "execute_result"
    }
   ],
   "source": [
    "nzytp_map = ytp_map.filter(lambda x: x!=0)\n",
    "nzytp_reduce = nzytp_map.reduce(lambda a,b: a+b)\n",
    "nzytp_views = nzytp_map.collect()\n",
    "nzytp_median = numpy.median(nzytp_views)\n",
    "nzytp_map.stats()"
   ]
  },
  {
   "cell_type": "code",
   "execution_count": 28,
   "metadata": {
    "collapsed": false
   },
   "outputs": [],
   "source": [
    "no_ytp = reject_outliers(ytp_views)"
   ]
  },
  {
   "cell_type": "markdown",
   "metadata": {},
   "source": [
    "##No Top Play\n",
    "* Highlights without top play = 497860 \n",
    "* Highlight with top play views = 8600837 \n",
    "* Highlights with extra text information\n",
    "    * mean: 17.2756136263 \n",
    "    * stdev: 105.124979881 \n",
    "    * max: 22236.0 \n",
    "    * min: 0.0\n",
    "    * median: 3.0"
   ]
  },
  {
   "cell_type": "code",
   "execution_count": 29,
   "metadata": {
    "collapsed": false
   },
   "outputs": [
    {
     "data": {
      "text/plain": [
       "(count: 497860, mean: 17.2756136263, stdev: 105.124979881, max: 22236.0, min: 1.0)"
      ]
     },
     "execution_count": 29,
     "metadata": {},
     "output_type": "execute_result"
    }
   ],
   "source": [
    "ntp_map = highlight_views.filter(lambda x: top_play(x) == False).map(lambda x: x['v'])\n",
    "ntp_zero = zero_views.filter(lambda x: top_play(x) == False).count()\n",
    "ntp_reduce = ntp_map.reduce(lambda a,b: a+b)\n",
    "ntp_views = ntp_map.collect()\n",
    "ntp_median = numpy.median(ntp_views)\n",
    "ntp_map.stats()"
   ]
  },
  {
   "cell_type": "markdown",
   "metadata": {},
   "source": [
    "##Figures Code using Plotly\n",
    "###Box Plot"
   ]
  },
  {
   "cell_type": "code",
   "execution_count": null,
   "metadata": {
    "collapsed": false
   },
   "outputs": [],
   "source": [
    "p_box = Box(\n",
    "   y=no_yp,\n",
    "   name='Premium',\n",
    ")\n",
    "\n",
    "ss_box = Box(\n",
    "   y=no_ss,\n",
    "   name='Spot Shadow',\n",
    ")\n",
    "\n",
    "sm_box = Box(\n",
    "   y=no_sm,\n",
    "   name='Slow Motion',\n",
    ")\n",
    "\n",
    "hm_box = Box(\n",
    "   y=no_hm,\n",
    "   name='Highlight Music',\n",
    ")\n",
    "\n",
    "et_box = Box(\n",
    "   y=no_xt,\n",
    "   name='Extra Text',\n",
    ")\n",
    "\n",
    "tp_box = Box(\n",
    "   y=no_ytp,\n",
    "   name='Top Play',\n",
    ")\n",
    "\n",
    "layout = Layout(\n",
    "   title='Public Highlight Views for 6 Special Properties',\n",
    "   showlegend=False,\n",
    "   yaxis=YAxis(\n",
    "       title='Public Highlight Views'),\n",
    "   xaxis=XAxis(\n",
    "       title='Special Properties'),\n",
    "   )\n",
    "\n",
    "traces = Data([p_box, ss_box, sm_box, hm_box, et_box, tp_box])\n",
    "fig = Figure(data=traces, layout=layout)\n",
    "py.iplot(fig, filename='basic-box-plot')"
   ]
  },
  {
   "cell_type": "markdown",
   "metadata": {},
   "source": [
    "##Bar Graph"
   ]
  },
  {
   "cell_type": "code",
   "execution_count": 16,
   "metadata": {
    "collapsed": false
   },
   "outputs": [
    {
     "name": "stdout",
     "output_type": "stream",
     "text": [
      "This is the format of your plot grid:\n",
      "[ (1,1) x1,y1 ]  [ (1,2) x2,y2 ]\n",
      "\n"
     ]
    },
    {
     "data": {
      "text/html": [
       "<iframe id=\"igraph\" scrolling=\"no\" style=\"border:none;\"seamless=\"seamless\" src=\"https://plot.ly/~pujaarajan/262.embed\" height=\"525\" width=\"100%\"></iframe>"
      ],
      "text/plain": [
       "<plotly.tools.PlotlyDisplay object>"
      ]
     },
     "execution_count": 16,
     "metadata": {},
     "output_type": "execute_result"
    }
   ],
   "source": [
    "y_properties_yes = [636552, 1668958, 10, 500195, 287203, 6429859]\n",
    "y_properties_no = [6291167, 5252045, 6920993, 6427524, 6640516, 497860]\n",
    "y_views_yes = [114767406,  82279191 , 97, 95432835, 50743514, 164196611]\n",
    "y_views_no = [58030042, 90433739, 172712833, 77364613, 122053934, 8600837]\n",
    "\n",
    "x_properties = ['Premium', 'Spot Shadow', 'Slow Motion', 'Music','Extra Text', 'Top Play']\n",
    "x_views = ['Premium', 'Spot Shadow', 'Slow Motion', 'Music','Extra Text', 'Top Play']\n",
    "\n",
    "trace1 = Bar(\n",
    "   x=y_properties_yes,\n",
    "   y=x_properties,\n",
    "   orientation='h',\n",
    "   name = \"Public highlights with the special property\",\n",
    "   marker = Marker(color = 'rgba(255,0,0,.7)'),\n",
    ")\n",
    "\n",
    "trace2 = Bar(\n",
    "   x=y_properties_no,\n",
    "   y=x_properties,\n",
    "   orientation='h',\n",
    "   name = \"Public highlights without the special property\",\n",
    "   marker = Marker(color = 'rgba(0,0,128,.7)'),\n",
    ")\n",
    "\n",
    "trace3 = Bar(x=y_views_yes, \n",
    "            y=x_views, \n",
    "            orientation='h',\n",
    "            name = \"Public highlight views with the special property\",\n",
    "            marker = Marker(color = 'rgba(0,128,0,.5)')\n",
    ")\n",
    "\n",
    "trace4 = Bar(x=y_views_no, \n",
    "                y=x_views, \n",
    "                orientation='h',\n",
    "                name = \"Public highlight views without the special property\",\n",
    "                marker = Marker(color = 'rgba(128,0,128,.5)')\n",
    ")\n",
    "\n",
    "layout = dict(\n",
    "   title='Public Highlight Analysis',\n",
    "   yaxis1=YAxis(\n",
    "       showgrid=False,\n",
    "       showline=False,\n",
    "       showticklabels=True,),\n",
    "   yaxis2=YAxis(\n",
    "       showgrid=False,\n",
    "       showline=True,\n",
    "       showticklabels=False,),\n",
    "   xaxis1=XAxis(\n",
    "       zeroline=False,\n",
    "       showline=False,\n",
    "       showticklabels=True,\n",
    "       showgrid=True,\n",
    "       title = \"Number of Highlights with a Property\"),\n",
    "   xaxis2=XAxis(\n",
    "       zeroline=False,\n",
    "       showline=False,\n",
    "       showticklabels=True,\n",
    "       showgrid=True,\n",
    "        title = \"Number of Total Views with a Property\"\n",
    "   ),\n",
    " legend=Legend(\n",
    "        x=0.001,\n",
    "        y=1.3,\n",
    "        font=Font(\n",
    "            size=10,\n",
    "        ),\n",
    "))\n",
    "\n",
    "#ANNOTATIONS\n",
    "\n",
    "annotations = []\n",
    "# Adding labels\n",
    "for yvy, yvn, ypy, ypn, xp, xv in zip(y_views_yes, y_views_no, y_properties_yes, y_properties_no, x_properties, x_views):\n",
    "    # labeling the bar graph\n",
    "    annotations.append(Annotation(xref='x1', yref='y1', y=xp, x=ypy + ypn + 400000,\n",
    "                                  text=str(int(ypy/float(ypy + ypn) * 100)) + '%',\n",
    "                                  showarrow=False))\n",
    "    # labeling the line graph\n",
    "    annotations.append(Annotation(xref='x2', yref='y2', y=xv, x=yvy + yvn + 10000000,\n",
    "                                  text=str(int(yvy/float(yvy + yvn) * 100)) + '%',\n",
    "                                  showarrow=False))\n",
    "\n",
    "layout['annotations'] = annotations\n",
    " \n",
    "    \n",
    "fig = tools.make_subplots(rows = 1, cols = 2, horizontal_spacing = .01)\n",
    "fig.append_trace(trace1, 1, 1)\n",
    "fig.append_trace(trace2, 1, 1)\n",
    "fig.append_trace(trace3, 1, 2)\n",
    "fig.append_trace(trace4, 1, 2)\n",
    "fig['layout'].update(layout, barmode='stack')\n",
    "py.iplot(fig)"
   ]
  },
  {
   "cell_type": "markdown",
   "metadata": {
    "collapsed": true
   },
   "source": [
    "##Questions"
   ]
  },
  {
   "cell_type": "markdown",
   "metadata": {},
   "source": [
    "1. Premium vs nonpremium? Premium views vs nonpremium views?\n",
    "2. Spot shadows vs no spot shadows? Spot shadow views vs no spot shadow views?\n",
    "3. Slow motion vs no slow motion? Slow motion views vs no slow motion views?\n",
    "4. Music vs no music? Music views vs no music views?\n",
    "5. Extra text vs no extra text? Extra text views vs no extra text views?\n",
    "6. Top plays vs non top play? Top play views vs non top play views?\n",
    "77. 6.Video length vs views? Create line graph. X axis video length and y axis views."
   ]
  },
  {
   "cell_type": "markdown",
   "metadata": {},
   "source": [
    "#Answers"
   ]
  }
 ],
 "metadata": {
  "kernelspec": {
   "display_name": "Python 2",
   "language": "python",
   "name": "python2"
  },
  "language_info": {
   "codemirror_mode": {
    "name": "ipython",
    "version": 2
   },
   "file_extension": ".py",
   "mimetype": "text/x-python",
   "name": "python",
   "nbconvert_exporter": "python",
   "pygments_lexer": "ipython2",
   "version": "2.7.9"
  }
 },
 "nbformat": 4,
 "nbformat_minor": 0
}
