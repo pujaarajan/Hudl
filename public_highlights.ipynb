{
 "cells": [
  {
   "cell_type": "markdown",
   "metadata": {},
   "source": [
    "#Public Highlights\n",
    "##Python Code\n",
    "* **About the Data**\n",
    "    * Got data from userhighlights not teamhighlights\n",
    "    * All userhighlights = 7286510\n",
    "    * Userhighlights with views = 6927719\n",
    "    * *5% of deleted because data no v for view*\n",
    "* **More information**\n",
    "    * mean: 24.9429066046\n",
    "    * stdev: 505.207633089\n",
    "    * max: 1056352.0\n",
    "    * min: 0.0\n",
    "* **Zero Views**\n",
    "    * 1134396 highlights\n",
    "        * *16% of all userhighlights*\n",
    "    * 99.8% of the 0 views are non premium highlights\n",
    "        * 18% of all non premium highlights are 0 views\n",
    "    * .3% of all premium highlights are 0 views\n",
    "        * .2 % of the 0 views are non premium highlights\n",
    "    "
   ]
  },
  {
   "cell_type": "code",
   "execution_count": 11,
   "metadata": {
    "collapsed": false
   },
   "outputs": [],
   "source": [
    "import json\n",
    "import numpy as np"
   ]
  },
  {
   "cell_type": "code",
   "execution_count": null,
   "metadata": {
    "collapsed": false
   },
   "outputs": [],
   "source": [
    "sqlc = HiveContext(sc)\n",
    "user_highlights = sc.textFile(\"s3n://ds-fulla/mongo/20150507/monolith/highlights/userhighlights/\").map(json.loads)\n",
    "highlight_views = user_highlights.filter(lambda x: 'v' in x.keys())\n",
    "all_views = highlight_views.map(lambda x: x['v']).reduce(lambda a,b: a+b)\n",
    "zero_views = highlight_views.filter(lambda x: x['v']==0)\n",
    "highlight_views.map(lambda x: x['v']).stats()"
   ]
  },
  {
   "cell_type": "markdown",
   "metadata": {},
   "source": [
    "##Premium\n",
    "* Premium highlights = 636552 \n",
    "* Premium highlight views = 114767406  \n",
    "* Premium view information\n",
    "    * mean: 180.295413415\n",
    "    * median: 73.0\n",
    "        * from a fulla sample\n",
    "    * stdev: 1652.72230355\n",
    "    * max: 1056352.0\n",
    "    * min: 0.0"
   ]
  },
  {
   "cell_type": "code",
   "execution_count": null,
   "metadata": {
    "collapsed": true
   },
   "outputs": [],
   "source": [
    "yp = highlight_views.filter(lambda x: x['p'])\n",
    "zero_yp = zero_views.filter(lambda x: x['p']).count()\n",
    "yp_views = yp.map(lambda x: x['v']).reduce(lambda a,b: a+b)\n",
    "yp.map(lambda x: x['v']).stats()"
   ]
  },
  {
   "cell_type": "code",
   "execution_count": null,
   "metadata": {
    "collapsed": true
   },
   "outputs": [],
   "source": [
    "#Find yp median\n",
    "sqlc.sql(\"ADD JAR s3://ds-fulla/scripts/bin/jsonserde.jar\")\n",
    "query1 = \"\"\"SELECT views FROM mono_highlights.userhighlights WHERE ispremium = true\"\"\"\n",
    "query1_count = sqlc.sql(query1).map(lambda x: x[0]).filter(lambda x: x != None).count()\n",
    "query1_views = sqlc.sql(query1).map(lambda x: x[0]).filter(lambda x: x != None).collect()\n",
    "query1_median = np.median(query1_views)"
   ]
  },
  {
   "cell_type": "code",
   "execution_count": null,
   "metadata": {
    "collapsed": true
   },
   "outputs": [],
   "source": []
  }
 ],
 "metadata": {
  "kernelspec": {
   "display_name": "Python 2",
   "language": "python",
   "name": "python2"
  },
  "language_info": {
   "codemirror_mode": {
    "name": "ipython",
    "version": 2
   },
   "file_extension": ".py",
   "mimetype": "text/x-python",
   "name": "python",
   "nbconvert_exporter": "python",
   "pygments_lexer": "ipython2",
   "version": "2.7.10"
  }
 },
 "nbformat": 4,
 "nbformat_minor": 0
}
