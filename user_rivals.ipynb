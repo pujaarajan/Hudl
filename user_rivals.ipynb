{
 "cells": [
  {
   "cell_type": "code",
   "execution_count": 1,
   "metadata": {
    "collapsed": true
   },
   "outputs": [],
   "source": [
    "import json\n",
    "import datetime\n",
    "import collections\n",
    "from collections import defaultdict"
   ]
  },
  {
   "cell_type": "code",
   "execution_count": null,
   "metadata": {
    "collapsed": true
   },
   "outputs": [],
   "source": [
    "def threeYears(game_date):\n",
    "    \"\"\"Return True if game is within the last three years and Fale is the game is not\"\"\"\n",
    "    three_years_1 = datetime.datetime.today() - datetime.timedelta(days=3*365)\n",
    "    three_years_2 = three_years_1.isoformat().split(\"T\")[0]\n",
    "    if three_years_2 < game_date:\n",
    "        return True\n",
    "    else:\n",
    "        return False"
   ]
  },
  {
   "cell_type": "code",
   "execution_count": null,
   "metadata": {
    "collapsed": true
   },
   "outputs": [],
   "source": [
    "def rival_dict():\n",
    "    \"\"\"Return dictionary of team:rivalteams\"\"\"\n",
    "    sqlc = HiveContext(sc)\n",
    "    individual_game = sc.textFile(\"s3://ds-fulla/mongo/20150615/statistics/stats/individualgame\").map(json.loads)\n",
    "    # NO NONES 478832\n",
    "    no_nones = individual_game.filter(lambda x: x[u't']!=None and x[u'g']!=None)\\\n",
    "        .filter(lambda x: x[u'g'][u'o'] and x[u'g'][u'd']!=None and x[u'g']['ws']!=None and x[u'g']['ps']!=None)\n",
    "    #TEAM OPPONENT SCORE DATE SCORE 478832 FILTER 477501 \n",
    "    user_game = no_nones.map(lambda x: (int(x[u'u']),int(x[u't']),int(x[u'g'][u'o']),str(x[u'g'][u'd'][u'$date']),x[u'g']['ws']-x[u'g']['ps']))\\\n",
    "        .map(lambda x: ((x[1] if x[1] < x[2] else x[2],x[1] if x[1] > x[2] else x[2]),x[0],x[3].split(\"T\")[0],x[4] if x[1] < x[2] else x[4]*-1))\\\n",
    "        .map(lambda x: (x[0], x[1], x[2], (1 if x[3] >= 0 else 0, 1 if x[3] < 0 else 0)))\\\n",
    "        .filter(lambda x: threeYears(x[2]))\n",
    "    #TEAM OPPONENT DATE SCORE DISTINCT 45150\n",
    "    game_count = user_game.map(lambda x: (x[0],x[2],x[3])).distinct()\n",
    "    #HOW MANY WINS AND LOSSES GREATER THAN ONE EACH MORE THAN 3 GAMES 743\n",
    "    win_count = game_count.map(lambda x: (x[0],x[2])).reduceByKey(lambda x, y: (x[0] + y[0], x[1] + y[1]))\\\n",
    "        .filter(lambda x: x[1][0] > 0 and x[1][1] > 0 and (x[1][0] + x[1][1]) > 2)\n",
    "    rival_dict = dict(win_count.collect())\n",
    "    return rival_dict"
   ]
  },
  {
   "cell_type": "code",
   "execution_count": null,
   "metadata": {
    "collapsed": true
   },
   "outputs": [],
   "source": [
    "def team_dict():\n",
    "    \"\"\"Return dictionary of user:teams\"\"\"\n",
    "    athlete_rdd = sc.textFile(\"s3://ds-fulla/mongo/20150507/monolith/athletes/athletes\").map(json.loads)\n",
    "    team_dict = dict(athlete_rdd.filter(lambda x: len(x['t']) > 0)\\\n",
    "            .map(lambda x: (int(x['_id']), [int(y['tid']) for y in x['t']]))\\\n",
    "            .collect())\n",
    "    return team_dict"
   ]
  },
  {
   "cell_type": "code",
   "execution_count": null,
   "metadata": {
    "collapsed": true
   },
   "outputs": [],
   "source": [
    "def user_teams(user, team_dict):\n",
    "    \"\"\"Return the teams a user is on\"\"\"\n",
    "    if user not in team_dict.keys():\n",
    "            return \"User not found\"\n",
    "    else:\n",
    "        teams = team_dict[user]\n",
    "        return teams"
   ]
  },
  {
   "cell_type": "code",
   "execution_count": null,
   "metadata": {
    "collapsed": true
   },
   "outputs": [],
   "source": [
    "def user_rivals(user1, user2, rival_dict, team_dict):\n",
    "    \"\"\"Return yes if user1 and user2 are rivals and no if they are not\"\"\"\n",
    "    user_team = []\n",
    "    team1 = user_teams(user1, team_dict)\n",
    "    team2 = user_teams(user2, team_dict)\n",
    "    if team1 == \"User not found\" or team2 ==\"User not found\":\n",
    "            return \"No rivals beause no team\"\n",
    "    else:\n",
    "        for t1 in team1:\n",
    "            for t2 in team2:\n",
    "                user_team.append(tuple(sorted((t1, t2))))\n",
    "        for ut in user_team:\n",
    "            if ut in rival_dict.keys():\n",
    "                return \"Rival\"\n",
    "            else:\n",
    "                return \"No rivals because not in dictionary\"\n",
    "        "
   ]
  },
  {
   "cell_type": "code",
   "execution_count": null,
   "metadata": {
    "collapsed": true
   },
   "outputs": [],
   "source": [
    "rival_dict = rival_dict()\n",
    "team_dict = team_dict()"
   ]
  },
  {
   "cell_type": "code",
   "execution_count": null,
   "metadata": {
    "collapsed": true
   },
   "outputs": [],
   "source": [
    "user_rivals(151888,3681735,rival_dict,team_dict)"
   ]
  },
  {
   "cell_type": "code",
   "execution_count": null,
   "metadata": {
    "collapsed": true
   },
   "outputs": [],
   "source": [
    "user_rivals(151888,543545,rival_dict,team_dict)"
   ]
  },
  {
   "cell_type": "code",
   "execution_count": null,
   "metadata": {
    "collapsed": true
   },
   "outputs": [],
   "source": []
  }
 ],
 "metadata": {
  "kernelspec": {
   "display_name": "Python 2",
   "language": "python",
   "name": "python2"
  },
  "language_info": {
   "codemirror_mode": {
    "name": "ipython",
    "version": 2
   },
   "file_extension": ".py",
   "mimetype": "text/x-python",
   "name": "python",
   "nbconvert_exporter": "python",
   "pygments_lexer": "ipython2",
   "version": "2.7.10"
  }
 },
 "nbformat": 4,
 "nbformat_minor": 0
}
